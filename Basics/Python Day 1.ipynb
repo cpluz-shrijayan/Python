{
  "nbformat": 4,
  "nbformat_minor": 0,
  "metadata": {
    "colab": {
      "provenance": []
    },
    "kernelspec": {
      "name": "python3",
      "display_name": "Python 3"
    },
    "language_info": {
      "name": "python"
    }
  },
  "cells": [
    {
      "cell_type": "code",
      "execution_count": 1,
      "metadata": {
        "colab": {
          "base_uri": "https://localhost:8080/"
        },
        "id": "FeFFmf4OPV2-",
        "outputId": "bf55b93e-3790-44a4-bd91-469bcc72cb93"
      },
      "outputs": [
        {
          "output_type": "stream",
          "name": "stdout",
          "text": [
            "Hello World\n"
          ]
        }
      ],
      "source": [
        "#25/09/2022\n",
        "print(\"Hello World\")"
      ]
    },
    {
      "cell_type": "code",
      "source": [
        "1*2"
      ],
      "metadata": {
        "colab": {
          "base_uri": "https://localhost:8080/"
        },
        "id": "-rqqA8QjQeMX",
        "outputId": "982fdf33-fb89-47d2-e31d-c91ca692cf01"
      },
      "execution_count": 2,
      "outputs": [
        {
          "output_type": "execute_result",
          "data": {
            "text/plain": [
              "2"
            ]
          },
          "metadata": {},
          "execution_count": 2
        }
      ]
    },
    {
      "cell_type": "code",
      "source": [
        "5**2"
      ],
      "metadata": {
        "colab": {
          "base_uri": "https://localhost:8080/"
        },
        "id": "EPZw6AQMQfca",
        "outputId": "715176e4-7ebb-4a7f-8acb-873155b83c74"
      },
      "execution_count": 4,
      "outputs": [
        {
          "output_type": "execute_result",
          "data": {
            "text/plain": [
              "25"
            ]
          },
          "metadata": {},
          "execution_count": 4
        }
      ]
    },
    {
      "cell_type": "code",
      "source": [
        "10%2"
      ],
      "metadata": {
        "colab": {
          "base_uri": "https://localhost:8080/"
        },
        "id": "Mn2n1rQCQgF2",
        "outputId": "0e1b5e2e-9e96-4569-9520-fdabef84be8e"
      },
      "execution_count": 5,
      "outputs": [
        {
          "output_type": "execute_result",
          "data": {
            "text/plain": [
              "0"
            ]
          },
          "metadata": {},
          "execution_count": 5
        }
      ]
    },
    {
      "cell_type": "code",
      "source": [
        "# Check the Data Type\n",
        "type(10.0)"
      ],
      "metadata": {
        "colab": {
          "base_uri": "https://localhost:8080/"
        },
        "id": "xWzlXDgGQjC4",
        "outputId": "430a940e-0e64-4bfc-8434-4aa01f996bb3"
      },
      "execution_count": 6,
      "outputs": [
        {
          "output_type": "execute_result",
          "data": {
            "text/plain": [
              "float"
            ]
          },
          "metadata": {},
          "execution_count": 6
        }
      ]
    },
    {
      "cell_type": "code",
      "source": [
        "type(100)"
      ],
      "metadata": {
        "colab": {
          "base_uri": "https://localhost:8080/"
        },
        "id": "tXFZbXe8Qpfd",
        "outputId": "0f9bf2c0-60bd-4b2d-e758-a14fb40d8552"
      },
      "execution_count": 7,
      "outputs": [
        {
          "output_type": "execute_result",
          "data": {
            "text/plain": [
              "int"
            ]
          },
          "metadata": {},
          "execution_count": 7
        }
      ]
    },
    {
      "cell_type": "code",
      "source": [
        "type(\"Hello\")"
      ],
      "metadata": {
        "colab": {
          "base_uri": "https://localhost:8080/"
        },
        "id": "Nf3oDi5oQqit",
        "outputId": "d186fba1-0666-417e-c07e-17971ef83fea"
      },
      "execution_count": 8,
      "outputs": [
        {
          "output_type": "execute_result",
          "data": {
            "text/plain": [
              "str"
            ]
          },
          "metadata": {},
          "execution_count": 8
        }
      ]
    },
    {
      "cell_type": "code",
      "source": [
        "type(True)\n",
        "# True is reserved Keyword"
      ],
      "metadata": {
        "colab": {
          "base_uri": "https://localhost:8080/"
        },
        "id": "9MGG7bkdQtE-",
        "outputId": "3579fb6e-a5dc-4c8a-d5c6-262bdd266f73"
      },
      "execution_count": 9,
      "outputs": [
        {
          "output_type": "execute_result",
          "data": {
            "text/plain": [
              "bool"
            ]
          },
          "metadata": {},
          "execution_count": 9
        }
      ]
    },
    {
      "cell_type": "code",
      "source": [
        "a=10"
      ],
      "metadata": {
        "id": "HgL55d6xQw38"
      },
      "execution_count": 10,
      "outputs": []
    },
    {
      "cell_type": "code",
      "source": [
        "type(a)"
      ],
      "metadata": {
        "colab": {
          "base_uri": "https://localhost:8080/"
        },
        "id": "hEkhl4e-Q4Lw",
        "outputId": "d6e4c663-5ed2-485e-a5f6-69fc000b672c"
      },
      "execution_count": 11,
      "outputs": [
        {
          "output_type": "execute_result",
          "data": {
            "text/plain": [
              "int"
            ]
          },
          "metadata": {},
          "execution_count": 11
        }
      ]
    },
    {
      "cell_type": "code",
      "source": [
        "a=\"hello\""
      ],
      "metadata": {
        "id": "MBtu8ahbQ5kz"
      },
      "execution_count": 13,
      "outputs": []
    },
    {
      "cell_type": "code",
      "source": [
        "type(a)"
      ],
      "metadata": {
        "colab": {
          "base_uri": "https://localhost:8080/"
        },
        "id": "ofEZGScQQ8NG",
        "outputId": "ee0d4457-3ab4-4d2f-b105-a7a5ed03268f"
      },
      "execution_count": 14,
      "outputs": [
        {
          "output_type": "execute_result",
          "data": {
            "text/plain": [
              "str"
            ]
          },
          "metadata": {},
          "execution_count": 14
        }
      ]
    },
    {
      "cell_type": "code",
      "source": [
        "a=10\n",
        "b=20"
      ],
      "metadata": {
        "id": "zX_1miEQQ-Ye"
      },
      "execution_count": 15,
      "outputs": []
    },
    {
      "cell_type": "code",
      "source": [
        "print(a+b)\n",
        "print(a-b)\n",
        "print(a*b)\n",
        "print(a/b)\n",
        "print(a**b)\n",
        "print((a*b)+(a/b))"
      ],
      "metadata": {
        "colab": {
          "base_uri": "https://localhost:8080/"
        },
        "id": "WjVcnJM_RBiY",
        "outputId": "b1477bda-6632-4ab7-9f2e-77fc3f8f1ec6"
      },
      "execution_count": 17,
      "outputs": [
        {
          "output_type": "stream",
          "name": "stdout",
          "text": [
            "30\n",
            "-10\n",
            "200\n",
            "0.5\n",
            "100000000000000000000\n",
            "200.5\n"
          ]
        }
      ]
    },
    {
      "cell_type": "code",
      "source": [
        "fname=\"Hello\"\n",
        "lname=\"World\""
      ],
      "metadata": {
        "id": "pwwwwg5mRKmj"
      },
      "execution_count": 19,
      "outputs": []
    },
    {
      "cell_type": "code",
      "source": [
        "print(\"{} I am from this {}\".format(fname,lname))\n",
        "# the order of format is show as the output"
      ],
      "metadata": {
        "colab": {
          "base_uri": "https://localhost:8080/"
        },
        "id": "NHdod4w4Raso",
        "outputId": "728a7785-bf81-461b-fff0-900ba888fb34"
      },
      "execution_count": 20,
      "outputs": [
        {
          "output_type": "stream",
          "name": "stdout",
          "text": [
            "Hello I am from this World\n"
          ]
        }
      ]
    },
    {
      "cell_type": "code",
      "source": [
        "print(\"{w1} I am from this {w2}\".format(w2=lname,w1=fname))\n",
        "# still the order of format is changed then the output is showin correct order because of variable stored."
      ],
      "metadata": {
        "colab": {
          "base_uri": "https://localhost:8080/"
        },
        "id": "AGgpM93aRq9X",
        "outputId": "50d7cba0-3431-46ff-beda-fdeee107f86a"
      },
      "execution_count": 21,
      "outputs": [
        {
          "output_type": "stream",
          "name": "stdout",
          "text": [
            "Hello I am from this World\n"
          ]
        }
      ]
    },
    {
      "cell_type": "code",
      "source": [
        "len(\"Hello\")"
      ],
      "metadata": {
        "colab": {
          "base_uri": "https://localhost:8080/"
        },
        "id": "-hHT0Ai5R5i3",
        "outputId": "0eda1af2-ed5f-4e6a-f679-8e0a520b4fa1"
      },
      "execution_count": 22,
      "outputs": [
        {
          "output_type": "execute_result",
          "data": {
            "text/plain": [
              "5"
            ]
          },
          "metadata": {},
          "execution_count": 22
        }
      ]
    },
    {
      "cell_type": "markdown",
      "source": [
        "# Python Data Structures and Boolean\n",
        "Boolean\n",
        "Boolean and Logical Operators\n",
        "Lists\n",
        "Comparison operators\n",
        "Dictionaries\n",
        "Tuples\n",
        "Sets\n",
        "## Boolean Variables\n",
        "Boolean values are the two constant objects False and True.\n",
        "\n",
        "They are used to represent truth values (other values can also be considered false or true).\n",
        "\n",
        "In numeric contexts (for example, when used as the argument to an arithmetic operator), they behave like the integers 0 and 1, respectively.\n",
        "\n",
        "The built-in function bool() can be used to cast any value to a Boolean, if the value can be interpreted as a truth value\n",
        "\n",
        "They are written as False and True, respectively.\n",
        "\n"
      ],
      "metadata": {
        "id": "a6JC-LkYSvzn"
      }
    },
    {
      "cell_type": "code",
      "source": [
        "bool()"
      ],
      "metadata": {
        "colab": {
          "base_uri": "https://localhost:8080/"
        },
        "id": "0wcrYogpSEMF",
        "outputId": "ef6097d0-f919-4e62-ae4d-1969522e8f88"
      },
      "execution_count": 23,
      "outputs": [
        {
          "output_type": "execute_result",
          "data": {
            "text/plain": [
              "False"
            ]
          },
          "metadata": {},
          "execution_count": 23
        }
      ]
    },
    {
      "cell_type": "code",
      "source": [
        "type(True)"
      ],
      "metadata": {
        "colab": {
          "base_uri": "https://localhost:8080/"
        },
        "id": "DdnN1Fb5TT6L",
        "outputId": "18d5cd8e-b6a1-4955-8f35-bb578e71c633"
      },
      "execution_count": 24,
      "outputs": [
        {
          "output_type": "execute_result",
          "data": {
            "text/plain": [
              "bool"
            ]
          },
          "metadata": {},
          "execution_count": 24
        }
      ]
    },
    {
      "cell_type": "code",
      "source": [
        "my_str=\"Hello\""
      ],
      "metadata": {
        "id": "sBgSp6eCTYBn"
      },
      "execution_count": 26,
      "outputs": []
    },
    {
      "cell_type": "code",
      "source": [
        "print(my_str.isalnum()) #check if all char are numbers\n",
        "print(my_str.isalpha()) #check if all char in the string are alphabetic\n",
        "print(my_str.isdigit()) #test if string contains digits\n",
        "print(my_str.istitle()) #test if string contains title words\n",
        "print(my_str.isupper()) #test if string contains upper case\n",
        "print(my_str.islower()) #test if string contains lower case\n",
        "print(my_str.isspace()) #test if string contains spaces\n",
        "print(my_str.endswith('o')) #test if string endswith a d\n",
        "print(my_str.startswith('h')) #test if string startswith H"
      ],
      "metadata": {
        "colab": {
          "base_uri": "https://localhost:8080/"
        },
        "id": "NyPIiZ8uTcFH",
        "outputId": "86da5abc-2a45-4f29-8d94-20725f02fd94"
      },
      "execution_count": 28,
      "outputs": [
        {
          "output_type": "stream",
          "name": "stdout",
          "text": [
            "True\n",
            "True\n",
            "False\n",
            "True\n",
            "False\n",
            "False\n",
            "False\n",
            "True\n",
            "False\n"
          ]
        }
      ]
    },
    {
      "cell_type": "code",
      "source": [
        "True and False"
      ],
      "metadata": {
        "colab": {
          "base_uri": "https://localhost:8080/"
        },
        "id": "qtb6iBhXTsFY",
        "outputId": "93b448f0-6ce8-4a8a-ddc6-e4f079c31799"
      },
      "execution_count": 29,
      "outputs": [
        {
          "output_type": "execute_result",
          "data": {
            "text/plain": [
              "False"
            ]
          },
          "metadata": {},
          "execution_count": 29
        }
      ]
    },
    {
      "cell_type": "code",
      "source": [
        "True and False or True and False and True and False or True and False"
      ],
      "metadata": {
        "colab": {
          "base_uri": "https://localhost:8080/"
        },
        "id": "hszsodSfUVbJ",
        "outputId": "4964be12-5a58-4b80-df5a-d833a8581411"
      },
      "execution_count": 30,
      "outputs": [
        {
          "output_type": "execute_result",
          "data": {
            "text/plain": [
              "False"
            ]
          },
          "metadata": {},
          "execution_count": 30
        }
      ]
    },
    {
      "cell_type": "markdown",
      "source": [
        "#Lists\n",
        "\n",
        "A list is a data structure in Python that is a mutable, or changeable, ordered sequence of elements. Each element or value that is inside of a list is called an item. Just as strings are defined as characters between quotes, lists are defined by having values between square brackets [ ] "
      ],
      "metadata": {
        "id": "5e1HjtVjUkRD"
      }
    },
    {
      "cell_type": "code",
      "source": [
        "type([])"
      ],
      "metadata": {
        "colab": {
          "base_uri": "https://localhost:8080/"
        },
        "id": "7WLmLTBtUZHZ",
        "outputId": "9f9564e0-a6a8-4a38-e3b0-7cdc336e12e0"
      },
      "execution_count": 31,
      "outputs": [
        {
          "output_type": "execute_result",
          "data": {
            "text/plain": [
              "list"
            ]
          },
          "metadata": {},
          "execution_count": 31
        }
      ]
    },
    {
      "cell_type": "code",
      "source": [
        "lst=list()"
      ],
      "metadata": {
        "id": "T0gg03gxUqX4"
      },
      "execution_count": 32,
      "outputs": []
    },
    {
      "cell_type": "code",
      "source": [
        "type(lst)"
      ],
      "metadata": {
        "colab": {
          "base_uri": "https://localhost:8080/"
        },
        "id": "frOHLNzVUy9e",
        "outputId": "eef64be7-4d55-4751-e39b-9ad5661fd741"
      },
      "execution_count": 33,
      "outputs": [
        {
          "output_type": "execute_result",
          "data": {
            "text/plain": [
              "list"
            ]
          },
          "metadata": {},
          "execution_count": 33
        }
      ]
    },
    {
      "cell_type": "code",
      "source": [
        "lst=[10,20,\"happy\",\"more happy\"]"
      ],
      "metadata": {
        "id": "2ueDNOS6U03W"
      },
      "execution_count": 35,
      "outputs": []
    },
    {
      "cell_type": "markdown",
      "source": [
        "### Append"
      ],
      "metadata": {
        "id": "Haednli2VACO"
      }
    },
    {
      "cell_type": "code",
      "source": [
        "lst.append(\"Hello\")"
      ],
      "metadata": {
        "id": "wW_j28uEU5S2"
      },
      "execution_count": 36,
      "outputs": []
    },
    {
      "cell_type": "code",
      "source": [
        "lst"
      ],
      "metadata": {
        "colab": {
          "base_uri": "https://localhost:8080/"
        },
        "id": "6ELcA6pfVE8X",
        "outputId": "9396e824-ded1-439c-aeac-8e3d5d2450bf"
      },
      "execution_count": 37,
      "outputs": [
        {
          "output_type": "execute_result",
          "data": {
            "text/plain": [
              "[10, 20, 'happy', 'more happy', 'Hello']"
            ]
          },
          "metadata": {},
          "execution_count": 37
        }
      ]
    },
    {
      "cell_type": "code",
      "source": [
        "lst[0]"
      ],
      "metadata": {
        "colab": {
          "base_uri": "https://localhost:8080/"
        },
        "id": "EtlWQLY7VGQK",
        "outputId": "64b9a6d8-1a21-4081-9abb-0b68e0850a6b"
      },
      "execution_count": 39,
      "outputs": [
        {
          "output_type": "execute_result",
          "data": {
            "text/plain": [
              "10"
            ]
          },
          "metadata": {},
          "execution_count": 39
        }
      ]
    },
    {
      "cell_type": "code",
      "source": [
        "lst.append([\"Hello\",\"enjoy\"])"
      ],
      "metadata": {
        "id": "amjINSg2Vz9u"
      },
      "execution_count": 43,
      "outputs": []
    },
    {
      "cell_type": "markdown",
      "source": [
        "### INsert"
      ],
      "metadata": {
        "id": "jDH3GhS8VXSr"
      }
    },
    {
      "cell_type": "code",
      "source": [
        "lst.insert(1,\"world\")"
      ],
      "metadata": {
        "id": "uqNXJlSBVMOv"
      },
      "execution_count": 40,
      "outputs": []
    },
    {
      "cell_type": "code",
      "source": [
        "lst"
      ],
      "metadata": {
        "colab": {
          "base_uri": "https://localhost:8080/"
        },
        "id": "Zai8v7KMVq_0",
        "outputId": "14301d38-f478-427d-f5ba-1382e568518e"
      },
      "execution_count": 41,
      "outputs": [
        {
          "output_type": "execute_result",
          "data": {
            "text/plain": [
              "[10, 'world', 20, 'happy', 'more happy', 'Hello']"
            ]
          },
          "metadata": {},
          "execution_count": 41
        }
      ]
    },
    {
      "cell_type": "markdown",
      "source": [
        "### Extend"
      ],
      "metadata": {
        "id": "qMetnXilWI3R"
      }
    },
    {
      "cell_type": "code",
      "source": [
        "lst.extend([\"COme\",\"Therd\"])"
      ],
      "metadata": {
        "id": "buq2GLiAWKEs"
      },
      "execution_count": 47,
      "outputs": []
    },
    {
      "cell_type": "code",
      "source": [
        "lst"
      ],
      "metadata": {
        "colab": {
          "base_uri": "https://localhost:8080/"
        },
        "id": "FJpKcQbNVtOt",
        "outputId": "763834bd-51f9-4ab3-c7d8-a36a9682205a"
      },
      "execution_count": 48,
      "outputs": [
        {
          "output_type": "execute_result",
          "data": {
            "text/plain": [
              "[10,\n",
              " 'world',\n",
              " 20,\n",
              " 'happy',\n",
              " 'more happy',\n",
              " 'Hello',\n",
              " ['Hello', 'enjoy'],\n",
              " 'COme',\n",
              " 'Therd']"
            ]
          },
          "metadata": {},
          "execution_count": 48
        }
      ]
    },
    {
      "cell_type": "code",
      "source": [
        "lst=[1,2,3,4,5,6,7,8,9]"
      ],
      "metadata": {
        "id": "F2L1QE5OV7zH"
      },
      "execution_count": 49,
      "outputs": []
    },
    {
      "cell_type": "code",
      "source": [
        "sum(lst)"
      ],
      "metadata": {
        "colab": {
          "base_uri": "https://localhost:8080/"
        },
        "id": "omle9rqSWdCz",
        "outputId": "ccad4bb2-6779-4e63-8403-47701cf1229e"
      },
      "execution_count": 50,
      "outputs": [
        {
          "output_type": "execute_result",
          "data": {
            "text/plain": [
              "45"
            ]
          },
          "metadata": {},
          "execution_count": 50
        }
      ]
    },
    {
      "cell_type": "code",
      "source": [
        "lst.pop()"
      ],
      "metadata": {
        "colab": {
          "base_uri": "https://localhost:8080/"
        },
        "id": "Cxi-0hErWfEd",
        "outputId": "593d2b10-d8bc-40a3-d260-93eeb3f0d1b5"
      },
      "execution_count": 51,
      "outputs": [
        {
          "output_type": "execute_result",
          "data": {
            "text/plain": [
              "9"
            ]
          },
          "metadata": {},
          "execution_count": 51
        }
      ]
    },
    {
      "cell_type": "code",
      "source": [
        "lst.pop(0)"
      ],
      "metadata": {
        "colab": {
          "base_uri": "https://localhost:8080/"
        },
        "id": "RNqxZM5VWg67",
        "outputId": "e4f8a2f9-4022-4647-ece7-8bd75ac2fedd"
      },
      "execution_count": 52,
      "outputs": [
        {
          "output_type": "execute_result",
          "data": {
            "text/plain": [
              "1"
            ]
          },
          "metadata": {},
          "execution_count": 52
        }
      ]
    },
    {
      "cell_type": "code",
      "source": [
        "lst.count(2)"
      ],
      "metadata": {
        "colab": {
          "base_uri": "https://localhost:8080/"
        },
        "id": "b3YZRcwKWm4E",
        "outputId": "db3f7556-72f6-40d6-f662-4f6a326c915c"
      },
      "execution_count": 55,
      "outputs": [
        {
          "output_type": "execute_result",
          "data": {
            "text/plain": [
              "1"
            ]
          },
          "metadata": {},
          "execution_count": 55
        }
      ]
    },
    {
      "cell_type": "code",
      "source": [
        "lst.index(4)"
      ],
      "metadata": {
        "colab": {
          "base_uri": "https://localhost:8080/"
        },
        "id": "TpeAD94JWpSf",
        "outputId": "d048c0f9-60ff-4a29-dacf-611378dafd7d"
      },
      "execution_count": 56,
      "outputs": [
        {
          "output_type": "execute_result",
          "data": {
            "text/plain": [
              "2"
            ]
          },
          "metadata": {},
          "execution_count": 56
        }
      ]
    },
    {
      "cell_type": "markdown",
      "source": [
        "# SETS\n",
        "\n",
        "A Set is an unordered collection data type that is iterable, mutable, and has no duplicate elements. Python's set class represents the mathematical notion of a set.This is based on a data structure known as a hash table"
      ],
      "metadata": {
        "id": "vk8n1BxLW_ee"
      }
    },
    {
      "cell_type": "code",
      "source": [
        "sett={1,2,3,3,3,4,4,5,5,5,5,5,5}"
      ],
      "metadata": {
        "id": "BrZygjxrWu0T"
      },
      "execution_count": 60,
      "outputs": []
    },
    {
      "cell_type": "code",
      "source": [
        "sett"
      ],
      "metadata": {
        "colab": {
          "base_uri": "https://localhost:8080/"
        },
        "id": "kqKcrgWYXY78",
        "outputId": "f3f6db76-6486-4b04-ead9-d329a533bc46"
      },
      "execution_count": 61,
      "outputs": [
        {
          "output_type": "execute_result",
          "data": {
            "text/plain": [
              "{1, 2, 3, 4, 5}"
            ]
          },
          "metadata": {},
          "execution_count": 61
        }
      ]
    },
    {
      "cell_type": "code",
      "source": [
        "sett.add(10)"
      ],
      "metadata": {
        "id": "fOTNYnwPXZzp"
      },
      "execution_count": 62,
      "outputs": []
    },
    {
      "cell_type": "code",
      "source": [
        "sett"
      ],
      "metadata": {
        "colab": {
          "base_uri": "https://localhost:8080/"
        },
        "id": "ExC7D5zoXfgI",
        "outputId": "b61c1eb0-4808-47d6-e92d-819c9b87135c"
      },
      "execution_count": 63,
      "outputs": [
        {
          "output_type": "execute_result",
          "data": {
            "text/plain": [
              "{1, 2, 3, 4, 5, 10}"
            ]
          },
          "metadata": {},
          "execution_count": 63
        }
      ]
    },
    {
      "cell_type": "code",
      "source": [
        "set1={\"Avengers\",\"IronMan\",'Hitman'}\n",
        "set2={\"Avengers\",\"IronMan\",'Hitman','Hulk2'}"
      ],
      "metadata": {
        "id": "MCtYF4ctXl-h"
      },
      "execution_count": 64,
      "outputs": []
    },
    {
      "cell_type": "code",
      "source": [
        "set2.difference(set1)"
      ],
      "metadata": {
        "colab": {
          "base_uri": "https://localhost:8080/"
        },
        "id": "taX1MCBMX9Ww",
        "outputId": "2d9bbf06-85fd-4ba1-a8ac-fd78920a96c6"
      },
      "execution_count": 65,
      "outputs": [
        {
          "output_type": "execute_result",
          "data": {
            "text/plain": [
              "{'Hulk2'}"
            ]
          },
          "metadata": {},
          "execution_count": 65
        }
      ]
    },
    {
      "cell_type": "code",
      "source": [
        "set2.difference_update(set1)"
      ],
      "metadata": {
        "id": "qckni4p5YAy4"
      },
      "execution_count": 66,
      "outputs": []
    },
    {
      "cell_type": "markdown",
      "source": [
        "# Dictionaries\n",
        "\n",
        "A dictionary is a collection which is unordered, changeable and indexed. In Python dictionaries are written with curly brackets, and they have keys and values."
      ],
      "metadata": {
        "id": "PONnltAZYaNd"
      }
    },
    {
      "cell_type": "code",
      "source": [
        "dic={}"
      ],
      "metadata": {
        "id": "q6ho60FYYPJY"
      },
      "execution_count": 67,
      "outputs": []
    },
    {
      "cell_type": "code",
      "source": [
        "dic={'car1':'Maruthi','car2':'opel','car3':'zen'}"
      ],
      "metadata": {
        "id": "vcYNydB3YeCG"
      },
      "execution_count": 68,
      "outputs": []
    },
    {
      "cell_type": "code",
      "source": [
        "dic"
      ],
      "metadata": {
        "colab": {
          "base_uri": "https://localhost:8080/"
        },
        "id": "X3MZNF3VZSo2",
        "outputId": "ed9964b4-d994-4e62-f47f-ce54ca210cf6"
      },
      "execution_count": 69,
      "outputs": [
        {
          "output_type": "execute_result",
          "data": {
            "text/plain": [
              "{'car1': 'Maruthi', 'car2': 'opel', 'car3': 'zen'}"
            ]
          },
          "metadata": {},
          "execution_count": 69
        }
      ]
    },
    {
      "cell_type": "code",
      "source": [
        "dic['car1']"
      ],
      "metadata": {
        "colab": {
          "base_uri": "https://localhost:8080/",
          "height": 36
        },
        "id": "ed-nhaJZZfZV",
        "outputId": "184f593c-558b-4e63-e1d3-541a4b2f40e5"
      },
      "execution_count": 71,
      "outputs": [
        {
          "output_type": "execute_result",
          "data": {
            "text/plain": [
              "'Maruthi'"
            ],
            "application/vnd.google.colaboratory.intrinsic+json": {
              "type": "string"
            }
          },
          "metadata": {},
          "execution_count": 71
        }
      ]
    },
    {
      "cell_type": "code",
      "source": [
        "# We can even loop throught the dictionaries keys\n",
        "\n",
        "for x in dic:\n",
        "    print(x)"
      ],
      "metadata": {
        "colab": {
          "base_uri": "https://localhost:8080/"
        },
        "id": "sa5IyQXWZkEQ",
        "outputId": "f7211fb4-5326-4d61-9819-68cb93a3be08"
      },
      "execution_count": 72,
      "outputs": [
        {
          "output_type": "stream",
          "name": "stdout",
          "text": [
            "car1\n",
            "car2\n",
            "car3\n"
          ]
        }
      ]
    },
    {
      "cell_type": "code",
      "source": [
        "# We can even loop throught the dictionaries values\n",
        "\n",
        "for x in dic.values():\n",
        "    print(x)"
      ],
      "metadata": {
        "colab": {
          "base_uri": "https://localhost:8080/"
        },
        "id": "D7pFpeRxZqO9",
        "outputId": "6cae44e6-fa94-4e36-f67c-b2807ed257df"
      },
      "execution_count": 73,
      "outputs": [
        {
          "output_type": "stream",
          "name": "stdout",
          "text": [
            "Maruthi\n",
            "opel\n",
            "zen\n"
          ]
        }
      ]
    },
    {
      "cell_type": "code",
      "source": [
        "# We can also check both keys and values\n",
        "for x in dic.items():\n",
        "    print(x)"
      ],
      "metadata": {
        "colab": {
          "base_uri": "https://localhost:8080/"
        },
        "id": "o04KO2kdZub6",
        "outputId": "04c17746-13a5-4cba-b1bb-2dffd80a8893"
      },
      "execution_count": 76,
      "outputs": [
        {
          "output_type": "stream",
          "name": "stdout",
          "text": [
            "('car1', 'Maruthi')\n",
            "('car2', 'opel')\n",
            "('car3', 'zen')\n"
          ]
        }
      ]
    },
    {
      "cell_type": "code",
      "source": [
        "## Adding items in Dictionaries\n",
        "\n",
        "dic['car4']='Audi 2.0'"
      ],
      "metadata": {
        "id": "jYLjKI5zZyLT"
      },
      "execution_count": 78,
      "outputs": []
    },
    {
      "cell_type": "code",
      "source": [
        "dic"
      ],
      "metadata": {
        "colab": {
          "base_uri": "https://localhost:8080/"
        },
        "id": "Fu0VlML3Z4T-",
        "outputId": "b6d837d7-ca85-482c-fb4a-875558b3d37e"
      },
      "execution_count": 79,
      "outputs": [
        {
          "output_type": "execute_result",
          "data": {
            "text/plain": [
              "{'car1': 'Maruthi', 'car2': 'opel', 'car3': 'zen', 'car4': 'Audi 2.0'}"
            ]
          },
          "metadata": {},
          "execution_count": 79
        }
      ]
    },
    {
      "cell_type": "markdown",
      "source": [
        "# Nested Dictionary"
      ],
      "metadata": {
        "id": "LYKYU2Weaovv"
      }
    },
    {
      "cell_type": "code",
      "source": [
        "car1_model={'Mercedes':1960}\n",
        "car2_model={'Audi':1970}\n",
        "car3_model={'Ambassador':1980}\n",
        "\n",
        "car_type={'car1':car1_model,'car2':car2_model,'car3':car3_model}"
      ],
      "metadata": {
        "id": "B2lJZisFZ6-X"
      },
      "execution_count": 80,
      "outputs": []
    },
    {
      "cell_type": "code",
      "source": [
        "## Accessing the items in the dictionary\n",
        "\n",
        "print(car_type['car1'])"
      ],
      "metadata": {
        "colab": {
          "base_uri": "https://localhost:8080/"
        },
        "id": "OE7wFfJKauac",
        "outputId": "449be0f2-3de0-4091-de9c-8da40e8568cd"
      },
      "execution_count": 81,
      "outputs": [
        {
          "output_type": "stream",
          "name": "stdout",
          "text": [
            "{'Mercedes': 1960}\n"
          ]
        }
      ]
    },
    {
      "cell_type": "markdown",
      "source": [
        "# Tuples"
      ],
      "metadata": {
        "id": "9DX7_1n8a0Sn"
      }
    },
    {
      "cell_type": "code",
      "source": [
        "my_tuple=tuple()"
      ],
      "metadata": {
        "id": "e_ZIEp20avmT"
      },
      "execution_count": 88,
      "outputs": []
    },
    {
      "cell_type": "code",
      "source": [
        "my_tuple=(\"Hello\",\"World\")"
      ],
      "metadata": {
        "id": "9NwJo6mha_wQ"
      },
      "execution_count": 89,
      "outputs": []
    },
    {
      "cell_type": "code",
      "source": [
        "my_tuple.count('Krish')"
      ],
      "metadata": {
        "colab": {
          "base_uri": "https://localhost:8080/"
        },
        "id": "2n3RGFg8baIn",
        "outputId": "5fddce35-a4ce-4911-afbe-8e1fd9c792be"
      },
      "execution_count": 90,
      "outputs": [
        {
          "output_type": "execute_result",
          "data": {
            "text/plain": [
              "0"
            ]
          },
          "metadata": {},
          "execution_count": 90
        }
      ]
    },
    {
      "cell_type": "code",
      "source": [
        "my_tuple.index(\"Hello\")"
      ],
      "metadata": {
        "colab": {
          "base_uri": "https://localhost:8080/"
        },
        "id": "60SXhXwubamP",
        "outputId": "15df13c3-0d25-4940-a1e9-c3b496079a0c"
      },
      "execution_count": 91,
      "outputs": [
        {
          "output_type": "execute_result",
          "data": {
            "text/plain": [
              "0"
            ]
          },
          "metadata": {},
          "execution_count": 91
        }
      ]
    }
  ]
}
